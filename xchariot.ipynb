{
 "cells": [
  {
   "cell_type": "code",
   "execution_count": 1,
   "metadata": {
    "collapsed": false
   },
   "outputs": [],
   "source": [
    "%matplotlib inline\n",
    "import numpy as np\n",
    "import pandas as pd\n",
    "import seaborn as sns\n",
    "import socket, struct\n",
    "import matplotlib.pyplot as plt"
   ]
  },
  {
   "cell_type": "code",
   "execution_count": null,
   "metadata": {
    "collapsed": false
   },
   "outputs": [],
   "source": [
    "df = pd.read_csv('ixchariot.csv')\n",
    "df = df.drop('mix', axis=1)"
   ]
  },
  {
   "cell_type": "code",
   "execution_count": null,
   "metadata": {
    "collapsed": false
   },
   "outputs": [],
   "source": [
    "df = pd.get_dummies(df, columns=['user', 'Source IP', 'Destination IP'])"
   ]
  },
  {
   "cell_type": "code",
   "execution_count": null,
   "metadata": {
    "collapsed": false
   },
   "outputs": [],
   "source": [
    "cols = list(df)\n",
    "df = df[cols[0:2] + cols[13:] + cols[2:13]]"
   ]
  },
  {
   "cell_type": "code",
   "execution_count": null,
   "metadata": {
    "collapsed": false
   },
   "outputs": [],
   "source": [
    "df.columns.tolist()[-10:]"
   ]
  },
  {
   "cell_type": "code",
   "execution_count": null,
   "metadata": {
    "collapsed": false
   },
   "outputs": [],
   "source": [
    "def cat(x):\n",
    "    label = -1\n",
    "    if x == 'BitTorrent File Download':\n",
    "        label = 0\n",
    "    elif x == 'Netflix Service Provider':\n",
    "        label = 1\n",
    "    elif x == 'HTTP Flash Video':\n",
    "        label = 2\n",
    "    elif x == 'Facebook':\n",
    "        label = 3\n",
    "    \n",
    "    return label\n",
    "\n",
    "df['application'] = df['application'].apply(cat)\n",
    "df = df.drop('Total Measured Time',1)"
   ]
  },
  {
   "cell_type": "code",
   "execution_count": null,
   "metadata": {
    "collapsed": false
   },
   "outputs": [],
   "source": [
    "def ip_to_int(ip):\n",
    "    ''' ip is a string '''\n",
    "    i = socket.inet_aton(ip)\n",
    "    return struct.unpack(\">L\", i)[0]"
   ]
  },
  {
   "cell_type": "code",
   "execution_count": null,
   "metadata": {
    "collapsed": false
   },
   "outputs": [],
   "source": [
    "# convert all bytes into the natural log\n",
    "n = df.iloc[:,-10:]\n",
    "n = np.log(n)\n",
    "df.iloc[:,-10:] = n.replace(-np.inf, 0)"
   ]
  },
  {
   "cell_type": "code",
   "execution_count": null,
   "metadata": {
    "collapsed": false
   },
   "outputs": [],
   "source": [
    "# completely 0\n",
    "#df['bytes_loss'] = df['Total Bytes Received'] - df['Total Bytes Sent']\n",
    "#df['bytes_loss_1'] = df['Total Bytes Received By Destination'] - df['Total Bytes Sent By Source']\n",
    "#df['bytes_loss_2'] = df['Total Bytes Received By Source'] - df['Total Bytes Sent By Destination']"
   ]
  },
  {
   "cell_type": "code",
   "execution_count": null,
   "metadata": {
    "collapsed": false
   },
   "outputs": [],
   "source": [
    "#f, ax = plt.subplots(1,2, figsize=(13,4))\n",
    "#bt = df[(df['Destination IP'] == '10.0.21.3')]\n",
    "#ax[0].plot(bt['Total Bytes Sent'], 'b--', alpha=0.6,label='sent')\n",
    "#ax[0].plot(bt['Total Bytes Received'], 'r--', alpha=0.4,label='received')"
   ]
  },
  {
   "cell_type": "code",
   "execution_count": 5,
   "metadata": {
    "collapsed": false
   },
   "outputs": [
    {
     "ename": "KeyError",
     "evalue": "'Destination IP'",
     "output_type": "error",
     "traceback": [
      "\u001b[1;31m---------------------------------------------------------------------------\u001b[0m",
      "\u001b[1;31mKeyError\u001b[0m                                  Traceback (most recent call last)",
      "\u001b[1;32m<ipython-input-5-b7858802e858>\u001b[0m in \u001b[0;36m<module>\u001b[1;34m()\u001b[0m\n\u001b[0;32m      1\u001b[0m \u001b[0mf\u001b[0m\u001b[1;33m,\u001b[0m \u001b[0max\u001b[0m \u001b[1;33m=\u001b[0m \u001b[0mplt\u001b[0m\u001b[1;33m.\u001b[0m\u001b[0msubplots\u001b[0m\u001b[1;33m(\u001b[0m\u001b[1;36m2\u001b[0m\u001b[1;33m,\u001b[0m\u001b[1;36m2\u001b[0m\u001b[1;33m,\u001b[0m \u001b[0mfigsize\u001b[0m\u001b[1;33m=\u001b[0m\u001b[1;33m(\u001b[0m\u001b[1;36m13\u001b[0m\u001b[1;33m,\u001b[0m\u001b[1;36m8\u001b[0m\u001b[1;33m)\u001b[0m\u001b[1;33m)\u001b[0m\u001b[1;33m\u001b[0m\u001b[0m\n\u001b[0;32m      2\u001b[0m \u001b[1;33m\u001b[0m\u001b[0m\n\u001b[1;32m----> 3\u001b[1;33m \u001b[0mbt\u001b[0m \u001b[1;33m=\u001b[0m \u001b[0mdf\u001b[0m\u001b[1;33m[\u001b[0m\u001b[1;33m(\u001b[0m\u001b[0mdf\u001b[0m\u001b[1;33m[\u001b[0m\u001b[1;34m'application'\u001b[0m\u001b[1;33m]\u001b[0m \u001b[1;33m==\u001b[0m \u001b[1;36m0\u001b[0m\u001b[1;33m)\u001b[0m \u001b[1;33m&\u001b[0m \u001b[1;33m(\u001b[0m\u001b[0mdf\u001b[0m\u001b[1;33m[\u001b[0m\u001b[1;34m'Destination IP'\u001b[0m\u001b[1;33m]\u001b[0m \u001b[1;33m==\u001b[0m \u001b[1;34m'10.0.24.3'\u001b[0m\u001b[1;33m)\u001b[0m\u001b[1;33m]\u001b[0m\u001b[1;33m\u001b[0m\u001b[0m\n\u001b[0m\u001b[0;32m      4\u001b[0m \u001b[0max\u001b[0m\u001b[1;33m[\u001b[0m\u001b[1;36m0\u001b[0m\u001b[1;33m,\u001b[0m\u001b[1;36m0\u001b[0m\u001b[1;33m]\u001b[0m\u001b[1;33m.\u001b[0m\u001b[0mplot\u001b[0m\u001b[1;33m(\u001b[0m\u001b[0mbt\u001b[0m\u001b[1;33m[\u001b[0m\u001b[1;34m'Total Bytes Sent'\u001b[0m\u001b[1;33m]\u001b[0m\u001b[1;33m,\u001b[0m \u001b[1;34m'b--'\u001b[0m\u001b[1;33m,\u001b[0m \u001b[0malpha\u001b[0m\u001b[1;33m=\u001b[0m\u001b[1;36m0.6\u001b[0m\u001b[1;33m,\u001b[0m\u001b[0mlabel\u001b[0m\u001b[1;33m=\u001b[0m\u001b[1;34m'sent'\u001b[0m\u001b[1;33m)\u001b[0m\u001b[1;33m\u001b[0m\u001b[0m\n\u001b[0;32m      5\u001b[0m \u001b[0max\u001b[0m\u001b[1;33m[\u001b[0m\u001b[1;36m0\u001b[0m\u001b[1;33m,\u001b[0m\u001b[1;36m0\u001b[0m\u001b[1;33m]\u001b[0m\u001b[1;33m.\u001b[0m\u001b[0mplot\u001b[0m\u001b[1;33m(\u001b[0m\u001b[0mbt\u001b[0m\u001b[1;33m[\u001b[0m\u001b[1;34m'Total Bytes Received'\u001b[0m\u001b[1;33m]\u001b[0m\u001b[1;33m,\u001b[0m \u001b[1;34m'r--'\u001b[0m\u001b[1;33m,\u001b[0m \u001b[0malpha\u001b[0m\u001b[1;33m=\u001b[0m\u001b[1;36m0.4\u001b[0m\u001b[1;33m,\u001b[0m\u001b[0mlabel\u001b[0m\u001b[1;33m=\u001b[0m\u001b[1;34m'received'\u001b[0m\u001b[1;33m)\u001b[0m\u001b[1;33m\u001b[0m\u001b[0m\n",
      "\u001b[1;32m/usr/local/lib/python2.7/dist-packages/pandas/core/frame.pyc\u001b[0m in \u001b[0;36m__getitem__\u001b[1;34m(self, key)\u001b[0m\n\u001b[0;32m   1990\u001b[0m             \u001b[1;32mreturn\u001b[0m \u001b[0mself\u001b[0m\u001b[1;33m.\u001b[0m\u001b[0m_getitem_multilevel\u001b[0m\u001b[1;33m(\u001b[0m\u001b[0mkey\u001b[0m\u001b[1;33m)\u001b[0m\u001b[1;33m\u001b[0m\u001b[0m\n\u001b[0;32m   1991\u001b[0m         \u001b[1;32melse\u001b[0m\u001b[1;33m:\u001b[0m\u001b[1;33m\u001b[0m\u001b[0m\n\u001b[1;32m-> 1992\u001b[1;33m             \u001b[1;32mreturn\u001b[0m \u001b[0mself\u001b[0m\u001b[1;33m.\u001b[0m\u001b[0m_getitem_column\u001b[0m\u001b[1;33m(\u001b[0m\u001b[0mkey\u001b[0m\u001b[1;33m)\u001b[0m\u001b[1;33m\u001b[0m\u001b[0m\n\u001b[0m\u001b[0;32m   1993\u001b[0m \u001b[1;33m\u001b[0m\u001b[0m\n\u001b[0;32m   1994\u001b[0m     \u001b[1;32mdef\u001b[0m \u001b[0m_getitem_column\u001b[0m\u001b[1;33m(\u001b[0m\u001b[0mself\u001b[0m\u001b[1;33m,\u001b[0m \u001b[0mkey\u001b[0m\u001b[1;33m)\u001b[0m\u001b[1;33m:\u001b[0m\u001b[1;33m\u001b[0m\u001b[0m\n",
      "\u001b[1;32m/usr/local/lib/python2.7/dist-packages/pandas/core/frame.pyc\u001b[0m in \u001b[0;36m_getitem_column\u001b[1;34m(self, key)\u001b[0m\n\u001b[0;32m   1997\u001b[0m         \u001b[1;31m# get column\u001b[0m\u001b[1;33m\u001b[0m\u001b[1;33m\u001b[0m\u001b[0m\n\u001b[0;32m   1998\u001b[0m         \u001b[1;32mif\u001b[0m \u001b[0mself\u001b[0m\u001b[1;33m.\u001b[0m\u001b[0mcolumns\u001b[0m\u001b[1;33m.\u001b[0m\u001b[0mis_unique\u001b[0m\u001b[1;33m:\u001b[0m\u001b[1;33m\u001b[0m\u001b[0m\n\u001b[1;32m-> 1999\u001b[1;33m             \u001b[1;32mreturn\u001b[0m \u001b[0mself\u001b[0m\u001b[1;33m.\u001b[0m\u001b[0m_get_item_cache\u001b[0m\u001b[1;33m(\u001b[0m\u001b[0mkey\u001b[0m\u001b[1;33m)\u001b[0m\u001b[1;33m\u001b[0m\u001b[0m\n\u001b[0m\u001b[0;32m   2000\u001b[0m \u001b[1;33m\u001b[0m\u001b[0m\n\u001b[0;32m   2001\u001b[0m         \u001b[1;31m# duplicate columns & possible reduce dimensionality\u001b[0m\u001b[1;33m\u001b[0m\u001b[1;33m\u001b[0m\u001b[0m\n",
      "\u001b[1;32m/usr/local/lib/python2.7/dist-packages/pandas/core/generic.pyc\u001b[0m in \u001b[0;36m_get_item_cache\u001b[1;34m(self, item)\u001b[0m\n\u001b[0;32m   1343\u001b[0m         \u001b[0mres\u001b[0m \u001b[1;33m=\u001b[0m \u001b[0mcache\u001b[0m\u001b[1;33m.\u001b[0m\u001b[0mget\u001b[0m\u001b[1;33m(\u001b[0m\u001b[0mitem\u001b[0m\u001b[1;33m)\u001b[0m\u001b[1;33m\u001b[0m\u001b[0m\n\u001b[0;32m   1344\u001b[0m         \u001b[1;32mif\u001b[0m \u001b[0mres\u001b[0m \u001b[1;32mis\u001b[0m \u001b[0mNone\u001b[0m\u001b[1;33m:\u001b[0m\u001b[1;33m\u001b[0m\u001b[0m\n\u001b[1;32m-> 1345\u001b[1;33m             \u001b[0mvalues\u001b[0m \u001b[1;33m=\u001b[0m \u001b[0mself\u001b[0m\u001b[1;33m.\u001b[0m\u001b[0m_data\u001b[0m\u001b[1;33m.\u001b[0m\u001b[0mget\u001b[0m\u001b[1;33m(\u001b[0m\u001b[0mitem\u001b[0m\u001b[1;33m)\u001b[0m\u001b[1;33m\u001b[0m\u001b[0m\n\u001b[0m\u001b[0;32m   1346\u001b[0m             \u001b[0mres\u001b[0m \u001b[1;33m=\u001b[0m \u001b[0mself\u001b[0m\u001b[1;33m.\u001b[0m\u001b[0m_box_item_values\u001b[0m\u001b[1;33m(\u001b[0m\u001b[0mitem\u001b[0m\u001b[1;33m,\u001b[0m \u001b[0mvalues\u001b[0m\u001b[1;33m)\u001b[0m\u001b[1;33m\u001b[0m\u001b[0m\n\u001b[0;32m   1347\u001b[0m             \u001b[0mcache\u001b[0m\u001b[1;33m[\u001b[0m\u001b[0mitem\u001b[0m\u001b[1;33m]\u001b[0m \u001b[1;33m=\u001b[0m \u001b[0mres\u001b[0m\u001b[1;33m\u001b[0m\u001b[0m\n",
      "\u001b[1;32m/usr/local/lib/python2.7/dist-packages/pandas/core/internals.pyc\u001b[0m in \u001b[0;36mget\u001b[1;34m(self, item, fastpath)\u001b[0m\n\u001b[0;32m   3223\u001b[0m \u001b[1;33m\u001b[0m\u001b[0m\n\u001b[0;32m   3224\u001b[0m             \u001b[1;32mif\u001b[0m \u001b[1;32mnot\u001b[0m \u001b[0misnull\u001b[0m\u001b[1;33m(\u001b[0m\u001b[0mitem\u001b[0m\u001b[1;33m)\u001b[0m\u001b[1;33m:\u001b[0m\u001b[1;33m\u001b[0m\u001b[0m\n\u001b[1;32m-> 3225\u001b[1;33m                 \u001b[0mloc\u001b[0m \u001b[1;33m=\u001b[0m \u001b[0mself\u001b[0m\u001b[1;33m.\u001b[0m\u001b[0mitems\u001b[0m\u001b[1;33m.\u001b[0m\u001b[0mget_loc\u001b[0m\u001b[1;33m(\u001b[0m\u001b[0mitem\u001b[0m\u001b[1;33m)\u001b[0m\u001b[1;33m\u001b[0m\u001b[0m\n\u001b[0m\u001b[0;32m   3226\u001b[0m             \u001b[1;32melse\u001b[0m\u001b[1;33m:\u001b[0m\u001b[1;33m\u001b[0m\u001b[0m\n\u001b[0;32m   3227\u001b[0m                 \u001b[0mindexer\u001b[0m \u001b[1;33m=\u001b[0m \u001b[0mnp\u001b[0m\u001b[1;33m.\u001b[0m\u001b[0marange\u001b[0m\u001b[1;33m(\u001b[0m\u001b[0mlen\u001b[0m\u001b[1;33m(\u001b[0m\u001b[0mself\u001b[0m\u001b[1;33m.\u001b[0m\u001b[0mitems\u001b[0m\u001b[1;33m)\u001b[0m\u001b[1;33m)\u001b[0m\u001b[1;33m[\u001b[0m\u001b[0misnull\u001b[0m\u001b[1;33m(\u001b[0m\u001b[0mself\u001b[0m\u001b[1;33m.\u001b[0m\u001b[0mitems\u001b[0m\u001b[1;33m)\u001b[0m\u001b[1;33m]\u001b[0m\u001b[1;33m\u001b[0m\u001b[0m\n",
      "\u001b[1;32m/usr/local/lib/python2.7/dist-packages/pandas/indexes/base.pyc\u001b[0m in \u001b[0;36mget_loc\u001b[1;34m(self, key, method, tolerance)\u001b[0m\n\u001b[0;32m   1876\u001b[0m                 \u001b[1;32mreturn\u001b[0m \u001b[0mself\u001b[0m\u001b[1;33m.\u001b[0m\u001b[0m_engine\u001b[0m\u001b[1;33m.\u001b[0m\u001b[0mget_loc\u001b[0m\u001b[1;33m(\u001b[0m\u001b[0mkey\u001b[0m\u001b[1;33m)\u001b[0m\u001b[1;33m\u001b[0m\u001b[0m\n\u001b[0;32m   1877\u001b[0m             \u001b[1;32mexcept\u001b[0m \u001b[0mKeyError\u001b[0m\u001b[1;33m:\u001b[0m\u001b[1;33m\u001b[0m\u001b[0m\n\u001b[1;32m-> 1878\u001b[1;33m                 \u001b[1;32mreturn\u001b[0m \u001b[0mself\u001b[0m\u001b[1;33m.\u001b[0m\u001b[0m_engine\u001b[0m\u001b[1;33m.\u001b[0m\u001b[0mget_loc\u001b[0m\u001b[1;33m(\u001b[0m\u001b[0mself\u001b[0m\u001b[1;33m.\u001b[0m\u001b[0m_maybe_cast_indexer\u001b[0m\u001b[1;33m(\u001b[0m\u001b[0mkey\u001b[0m\u001b[1;33m)\u001b[0m\u001b[1;33m)\u001b[0m\u001b[1;33m\u001b[0m\u001b[0m\n\u001b[0m\u001b[0;32m   1879\u001b[0m \u001b[1;33m\u001b[0m\u001b[0m\n\u001b[0;32m   1880\u001b[0m         \u001b[0mindexer\u001b[0m \u001b[1;33m=\u001b[0m \u001b[0mself\u001b[0m\u001b[1;33m.\u001b[0m\u001b[0mget_indexer\u001b[0m\u001b[1;33m(\u001b[0m\u001b[1;33m[\u001b[0m\u001b[0mkey\u001b[0m\u001b[1;33m]\u001b[0m\u001b[1;33m,\u001b[0m \u001b[0mmethod\u001b[0m\u001b[1;33m=\u001b[0m\u001b[0mmethod\u001b[0m\u001b[1;33m,\u001b[0m \u001b[0mtolerance\u001b[0m\u001b[1;33m=\u001b[0m\u001b[0mtolerance\u001b[0m\u001b[1;33m)\u001b[0m\u001b[1;33m\u001b[0m\u001b[0m\n",
      "\u001b[1;32mpandas/index.pyx\u001b[0m in \u001b[0;36mpandas.index.IndexEngine.get_loc (pandas/index.c:4027)\u001b[1;34m()\u001b[0m\n",
      "\u001b[1;32mpandas/index.pyx\u001b[0m in \u001b[0;36mpandas.index.IndexEngine.get_loc (pandas/index.c:3891)\u001b[1;34m()\u001b[0m\n",
      "\u001b[1;32mpandas/hashtable.pyx\u001b[0m in \u001b[0;36mpandas.hashtable.PyObjectHashTable.get_item (pandas/hashtable.c:12408)\u001b[1;34m()\u001b[0m\n",
      "\u001b[1;32mpandas/hashtable.pyx\u001b[0m in \u001b[0;36mpandas.hashtable.PyObjectHashTable.get_item (pandas/hashtable.c:12359)\u001b[1;34m()\u001b[0m\n",
      "\u001b[1;31mKeyError\u001b[0m: 'Destination IP'"
     ]
    },
    {
     "name": "stderr",
     "output_type": "stream",
     "text": [
      "/usr/lib/pymodules/python2.7/matplotlib/font_manager.py:1236: UserWarning: findfont: Font family ['sans-serif'] not found. Falling back to Bitstream Vera Sans\n",
      "  (prop.get_family(), self.defaultFamily[fontext]))\n",
      "/usr/lib/pymodules/python2.7/matplotlib/font_manager.py:1246: UserWarning: findfont: Could not match :family=Bitstream Vera Sans:style=normal:variant=normal:weight=normal:stretch=normal:size=10.0. Returning /usr/share/matplotlib/mpl-data/fonts/ttf/cmb10.ttf\n",
      "  UserWarning)\n"
     ]
    },
    {
     "data": {
      "image/png": "[encoded data removed]",
      "text/plain": [
       "<matplotlib.figure.Figure at 0x7f45561a1590>"
      ]
     },
     "metadata": {},
     "output_type": "display_data"
    }
   ],
   "source": [
    "f, ax = plt.subplots(2,2, figsize=(13,8))\n",
    "\n",
    "bt = df[(df['application'] == 0) & (df['Destination IP'] == '10.0.24.3')]\n",
    "ax[0,0].plot(bt['Total Bytes Sent'], 'b--', alpha=0.6,label='sent')\n",
    "ax[0,0].plot(bt['Total Bytes Received'], 'r--', alpha=0.4,label='received')\n",
    "ax[0,0].set_title('FB util5')\n",
    "\n",
    "bt = df[(df['application'] == 0) & (df['Destination IP'] == '10.0.21.3')]\n",
    "ax[0,1].plot(bt['Total Bytes Sent'], 'b--', alpha=0.6,label='sent')\n",
    "ax[0,1].plot(bt['Total Bytes Received'], 'r--', alpha=0.4,label='received')\n",
    "ax[0,1].set_title('FB util2')\n",
    "\n",
    "bt = df[(df['application'] == 1) & (df['Destination IP'] == '10.0.24.3')]\n",
    "ax[1,0].plot(bt['Total Bytes Sent'], 'b--', alpha=0.6,label='sent')\n",
    "ax[1,0].plot(bt['Total Bytes Received'], 'r--', alpha=0.4,label='received')\n",
    "ax[1,0].set_title('Netflix util5')\n",
    "\n",
    "bt = df[(df['application'] == 1) & (df['Destination IP'] == '10.0.21.3')]\n",
    "ax[1,1].plot(bt['Total Bytes Sent'], 'b--', alpha=0.6,label='sent')\n",
    "ax[1,1].plot(bt['Total Bytes Received'], 'r--', alpha=0.4,label='received')\n",
    "ax[1,1].set_title('Netflix util2')\n",
    "\n",
    "plt.legend()"
   ]
  },
  {
   "cell_type": "code",
   "execution_count": null,
   "metadata": {
    "collapsed": false
   },
   "outputs": [],
   "source": [
    "# remove all rows with all 0s\n",
    "d = df.iloc[:,-10:]\n",
    "idx = d[(d.T != 0).any()].index.tolist()\n",
    "df = df.iloc[idx]"
   ]
  },
  {
   "cell_type": "code",
   "execution_count": null,
   "metadata": {
    "collapsed": false
   },
   "outputs": [],
   "source": [
    "# downsample the data, randomly selecting a row for every 10\n",
    "# np.random.seed(42)\n",
    "# r = 0\n",
    "# kf = pd.DataFrame()\n",
    "# while r < df.shape[0]:\n",
    "#     rows = df.iloc[r:r+10,:]\n",
    "#     c = np.random.choice(rows.index.tolist(), size=1, replace=False)\n",
    "#     kf = kf.append(rows.ix[c[0]])\n",
    "#     r = r + 10\n",
    "\n",
    "# kf = kf[df.columns]\n",
    "# kf.to_csv('downsample.csv')"
   ]
  },
  {
   "cell_type": "code",
   "execution_count": 6,
   "metadata": {
    "collapsed": false
   },
   "outputs": [],
   "source": [
    "df = pd.read_csv('downsample.csv', index_col=0)"
   ]
  },
  {
   "cell_type": "code",
   "execution_count": 7,
   "metadata": {
    "collapsed": false
   },
   "outputs": [
    {
     "data": {
      "text/html": [
       "<div>\n",
       "<table border=\"1\" class=\"dataframe\">\n",
       "  <thead>\n",
       "    <tr style=\"text-align: right;\">\n",
       "      <th></th>\n",
       "      <th>Throughput</th>\n",
       "      <th>Avg Throughput</th>\n",
       "      <th>Min Throughput</th>\n",
       "      <th>Max Throughput</th>\n",
       "      <th>Total Bytes Sent</th>\n",
       "      <th>Total Bytes Sent By Source</th>\n",
       "      <th>Total Bytes Sent By Destination</th>\n",
       "      <th>Total Bytes Received</th>\n",
       "      <th>Total Bytes Received By Source</th>\n",
       "      <th>Total Bytes Received By Destination</th>\n",
       "    </tr>\n",
       "  </thead>\n",
       "  <tbody>\n",
       "    <tr>\n",
       "      <th>16</th>\n",
       "      <td>17.582384</td>\n",
       "      <td>17.582384</td>\n",
       "      <td>17.582384</td>\n",
       "      <td>17.582384</td>\n",
       "      <td>16.196090</td>\n",
       "      <td>16.191321</td>\n",
       "      <td>10.847957</td>\n",
       "      <td>16.196090</td>\n",
       "      <td>10.847957</td>\n",
       "      <td>16.191321</td>\n",
       "    </tr>\n",
       "    <tr>\n",
       "      <th>19</th>\n",
       "      <td>17.604909</td>\n",
       "      <td>17.604909</td>\n",
       "      <td>17.604909</td>\n",
       "      <td>17.604909</td>\n",
       "      <td>16.218614</td>\n",
       "      <td>16.213910</td>\n",
       "      <td>10.857055</td>\n",
       "      <td>16.218614</td>\n",
       "      <td>10.857055</td>\n",
       "      <td>16.213910</td>\n",
       "    </tr>\n",
       "    <tr>\n",
       "      <th>62</th>\n",
       "      <td>16.221942</td>\n",
       "      <td>15.528795</td>\n",
       "      <td>0.000000</td>\n",
       "      <td>16.221942</td>\n",
       "      <td>14.835648</td>\n",
       "      <td>14.813051</td>\n",
       "      <td>11.034422</td>\n",
       "      <td>14.835648</td>\n",
       "      <td>11.034422</td>\n",
       "      <td>14.813051</td>\n",
       "    </tr>\n",
       "    <tr>\n",
       "      <th>66</th>\n",
       "      <td>0.000000</td>\n",
       "      <td>15.662326</td>\n",
       "      <td>0.000000</td>\n",
       "      <td>16.355473</td>\n",
       "      <td>14.969179</td>\n",
       "      <td>14.946582</td>\n",
       "      <td>11.167953</td>\n",
       "      <td>14.969179</td>\n",
       "      <td>11.167953</td>\n",
       "      <td>14.946582</td>\n",
       "    </tr>\n",
       "    <tr>\n",
       "      <th>85</th>\n",
       "      <td>16.410971</td>\n",
       "      <td>16.400012</td>\n",
       "      <td>16.386172</td>\n",
       "      <td>16.410971</td>\n",
       "      <td>16.112330</td>\n",
       "      <td>16.107626</td>\n",
       "      <td>10.750685</td>\n",
       "      <td>16.112330</td>\n",
       "      <td>10.750685</td>\n",
       "      <td>16.107626</td>\n",
       "    </tr>\n",
       "  </tbody>\n",
       "</table>\n",
       "</div>"
      ],
      "text/plain": [
       "    Throughput  Avg Throughput  Min Throughput  Max Throughput  \\\n",
       "16   17.582384       17.582384       17.582384       17.582384   \n",
       "19   17.604909       17.604909       17.604909       17.604909   \n",
       "62   16.221942       15.528795        0.000000       16.221942   \n",
       "66    0.000000       15.662326        0.000000       16.355473   \n",
       "85   16.410971       16.400012       16.386172       16.410971   \n",
       "\n",
       "    Total Bytes Sent  Total Bytes Sent By Source  \\\n",
       "16         16.196090                   16.191321   \n",
       "19         16.218614                   16.213910   \n",
       "62         14.835648                   14.813051   \n",
       "66         14.969179                   14.946582   \n",
       "85         16.112330                   16.107626   \n",
       "\n",
       "    Total Bytes Sent By Destination  Total Bytes Received  \\\n",
       "16                        10.847957             16.196090   \n",
       "19                        10.857055             16.218614   \n",
       "62                        11.034422             14.835648   \n",
       "66                        11.167953             14.969179   \n",
       "85                        10.750685             16.112330   \n",
       "\n",
       "    Total Bytes Received By Source  Total Bytes Received By Destination  \n",
       "16                       10.847957                            16.191321  \n",
       "19                       10.857055                            16.213910  \n",
       "62                       11.034422                            14.813051  \n",
       "66                       11.167953                            14.946582  \n",
       "85                       10.750685                            16.107626  "
      ]
     },
     "execution_count": 7,
     "metadata": {},
     "output_type": "execute_result"
    }
   ],
   "source": [
    "df.iloc[:,-10:].head()"
   ]
  },
  {
   "cell_type": "code",
   "execution_count": null,
   "metadata": {
    "collapsed": false
   },
   "outputs": [],
   "source": [
    "#df['Source IP'] = df['Source IP'].apply(ip_to_int)\n",
    "#df['Destination IP'] = df['Destination IP'].apply(ip_to_int)"
   ]
  },
  {
   "cell_type": "code",
   "execution_count": 8,
   "metadata": {
    "collapsed": false
   },
   "outputs": [],
   "source": [
    "# normalize\n",
    "c = df[df.columns[-10:]]\n",
    "norm = c - c.mean() / (c.max() - c.min())\n",
    "df.iloc[:,-10:] = norm"
   ]
  },
  {
   "cell_type": "code",
   "execution_count": 9,
   "metadata": {
    "collapsed": false
   },
   "outputs": [
    {
     "data": {
      "text/plain": [
       "<matplotlib.axes.AxesSubplot at 0x7f4555ff6990>"
      ]
     },
     "execution_count": 9,
     "metadata": {},
     "output_type": "execute_result"
    },
    {
     "name": "stderr",
     "output_type": "stream",
     "text": [
      "/usr/lib/pymodules/python2.7/matplotlib/font_manager.py:1246: UserWarning: findfont: Could not match :family=Bitstream Vera Sans:style=normal:variant=normal:weight=normal:stretch=normal:size=11.0. Returning /usr/share/matplotlib/mpl-data/fonts/ttf/cmb10.ttf\n",
      "  UserWarning)\n"
     ]
    },
    {
     "data": {
      "image/png": "[encoded data removed]",
      "text/plain": [
       "<matplotlib.figure.Figure at 0x7f455606a250>"
      ]
     },
     "metadata": {},
     "output_type": "display_data"
    }
   ],
   "source": [
    "df['ratio_throughput'] = df['Throughput'] / df['Avg Throughput']\n",
    "sns.distplot(df['ratio_throughput'])"
   ]
  },
  {
   "cell_type": "code",
   "execution_count": null,
   "metadata": {
    "collapsed": false
   },
   "outputs": [],
   "source": [
    "# find the count of each application \n",
    "#z = df[df['application'] == 2]\n",
    "#z.info()\n",
    "# bitorrent=55646, netflix = 55636, http = 55627, fb = 55627"
   ]
  },
  {
   "cell_type": "code",
   "execution_count": 10,
   "metadata": {
    "collapsed": false
   },
   "outputs": [],
   "source": [
    "c = df.columns.tolist()\n",
    "v = c[0]\n",
    "c[0] = c[1]\n",
    "c[1] = v\n",
    "df = df[c]\n",
    "\n",
    "df.to_csv('train_data.csv')"
   ]
  },
  {
   "cell_type": "code",
   "execution_count": 11,
   "metadata": {
    "collapsed": false
   },
   "outputs": [],
   "source": [
    "rf = pd.read_csv('train_data.csv', index_col=0)"
   ]
  },
  {
   "cell_type": "code",
   "execution_count": 12,
   "metadata": {
    "collapsed": false
   },
   "outputs": [
    {
     "data": {
      "text/html": [
       "<div>\n",
       "<table border=\"1\" class=\"dataframe\">\n",
       "  <thead>\n",
       "    <tr style=\"text-align: right;\">\n",
       "      <th></th>\n",
       "      <th>application</th>\n",
       "      <th>timestamp</th>\n",
       "      <th>user_1</th>\n",
       "      <th>user_2</th>\n",
       "      <th>user_3</th>\n",
       "      <th>user_4</th>\n",
       "      <th>user_5</th>\n",
       "      <th>user_6</th>\n",
       "      <th>user_7</th>\n",
       "      <th>user_8</th>\n",
       "      <th>...</th>\n",
       "      <th>Avg Throughput</th>\n",
       "      <th>Min Throughput</th>\n",
       "      <th>Max Throughput</th>\n",
       "      <th>Total Bytes Sent</th>\n",
       "      <th>Total Bytes Sent By Source</th>\n",
       "      <th>Total Bytes Sent By Destination</th>\n",
       "      <th>Total Bytes Received</th>\n",
       "      <th>Total Bytes Received By Source</th>\n",
       "      <th>Total Bytes Received By Destination</th>\n",
       "      <th>ratio_throughput</th>\n",
       "    </tr>\n",
       "  </thead>\n",
       "  <tbody>\n",
       "    <tr>\n",
       "      <th>16</th>\n",
       "      <td>1.0</td>\n",
       "      <td>2000.0</td>\n",
       "      <td>0.0</td>\n",
       "      <td>0.0</td>\n",
       "      <td>1.0</td>\n",
       "      <td>0.0</td>\n",
       "      <td>0.0</td>\n",
       "      <td>0.0</td>\n",
       "      <td>0.0</td>\n",
       "      <td>0.0</td>\n",
       "      <td>...</td>\n",
       "      <td>13.793680</td>\n",
       "      <td>17.580572</td>\n",
       "      <td>12.287877</td>\n",
       "      <td>14.264658</td>\n",
       "      <td>14.263888</td>\n",
       "      <td>9.455304</td>\n",
       "      <td>14.264658</td>\n",
       "      <td>9.455304</td>\n",
       "      <td>14.263888</td>\n",
       "      <td>1.241573</td>\n",
       "    </tr>\n",
       "    <tr>\n",
       "      <th>19</th>\n",
       "      <td>1.0</td>\n",
       "      <td>2000.0</td>\n",
       "      <td>0.0</td>\n",
       "      <td>1.0</td>\n",
       "      <td>0.0</td>\n",
       "      <td>0.0</td>\n",
       "      <td>0.0</td>\n",
       "      <td>0.0</td>\n",
       "      <td>0.0</td>\n",
       "      <td>0.0</td>\n",
       "      <td>...</td>\n",
       "      <td>13.816204</td>\n",
       "      <td>17.603096</td>\n",
       "      <td>12.310402</td>\n",
       "      <td>14.287183</td>\n",
       "      <td>14.286476</td>\n",
       "      <td>9.464401</td>\n",
       "      <td>14.287183</td>\n",
       "      <td>9.464401</td>\n",
       "      <td>14.286476</td>\n",
       "      <td>1.241180</td>\n",
       "    </tr>\n",
       "    <tr>\n",
       "      <th>62</th>\n",
       "      <td>3.0</td>\n",
       "      <td>4000.0</td>\n",
       "      <td>0.0</td>\n",
       "      <td>0.0</td>\n",
       "      <td>0.0</td>\n",
       "      <td>0.0</td>\n",
       "      <td>0.0</td>\n",
       "      <td>0.0</td>\n",
       "      <td>1.0</td>\n",
       "      <td>0.0</td>\n",
       "      <td>...</td>\n",
       "      <td>11.740090</td>\n",
       "      <td>-0.001812</td>\n",
       "      <td>10.927435</td>\n",
       "      <td>12.904216</td>\n",
       "      <td>12.885618</td>\n",
       "      <td>9.641769</td>\n",
       "      <td>12.904216</td>\n",
       "      <td>9.641769</td>\n",
       "      <td>12.885618</td>\n",
       "      <td>1.342871</td>\n",
       "    </tr>\n",
       "    <tr>\n",
       "      <th>66</th>\n",
       "      <td>3.0</td>\n",
       "      <td>4000.0</td>\n",
       "      <td>0.0</td>\n",
       "      <td>0.0</td>\n",
       "      <td>1.0</td>\n",
       "      <td>0.0</td>\n",
       "      <td>0.0</td>\n",
       "      <td>0.0</td>\n",
       "      <td>0.0</td>\n",
       "      <td>0.0</td>\n",
       "      <td>...</td>\n",
       "      <td>11.873622</td>\n",
       "      <td>-0.001812</td>\n",
       "      <td>11.060967</td>\n",
       "      <td>13.037748</td>\n",
       "      <td>13.019149</td>\n",
       "      <td>9.775300</td>\n",
       "      <td>13.037748</td>\n",
       "      <td>9.775300</td>\n",
       "      <td>13.019149</td>\n",
       "      <td>-0.038448</td>\n",
       "    </tr>\n",
       "    <tr>\n",
       "      <th>85</th>\n",
       "      <td>0.0</td>\n",
       "      <td>6000.0</td>\n",
       "      <td>0.0</td>\n",
       "      <td>0.0</td>\n",
       "      <td>0.0</td>\n",
       "      <td>0.0</td>\n",
       "      <td>1.0</td>\n",
       "      <td>0.0</td>\n",
       "      <td>0.0</td>\n",
       "      <td>0.0</td>\n",
       "      <td>...</td>\n",
       "      <td>12.611308</td>\n",
       "      <td>16.384360</td>\n",
       "      <td>11.116464</td>\n",
       "      <td>14.180899</td>\n",
       "      <td>14.180193</td>\n",
       "      <td>9.358032</td>\n",
       "      <td>14.180899</td>\n",
       "      <td>9.358032</td>\n",
       "      <td>14.180193</td>\n",
       "      <td>1.265091</td>\n",
       "    </tr>\n",
       "  </tbody>\n",
       "</table>\n",
       "<p>5 rows × 30 columns</p>\n",
       "</div>"
      ],
      "text/plain": [
       "    application  timestamp  user_1  user_2  user_3  user_4  user_5  user_6  \\\n",
       "16          1.0     2000.0     0.0     0.0     1.0     0.0     0.0     0.0   \n",
       "19          1.0     2000.0     0.0     1.0     0.0     0.0     0.0     0.0   \n",
       "62          3.0     4000.0     0.0     0.0     0.0     0.0     0.0     0.0   \n",
       "66          3.0     4000.0     0.0     0.0     1.0     0.0     0.0     0.0   \n",
       "85          0.0     6000.0     0.0     0.0     0.0     0.0     1.0     0.0   \n",
       "\n",
       "    user_7  user_8        ...         Avg Throughput  Min Throughput  \\\n",
       "16     0.0     0.0        ...              13.793680       17.580572   \n",
       "19     0.0     0.0        ...              13.816204       17.603096   \n",
       "62     1.0     0.0        ...              11.740090       -0.001812   \n",
       "66     0.0     0.0        ...              11.873622       -0.001812   \n",
       "85     0.0     0.0        ...              12.611308       16.384360   \n",
       "\n",
       "    Max Throughput  Total Bytes Sent  Total Bytes Sent By Source  \\\n",
       "16       12.287877         14.264658                   14.263888   \n",
       "19       12.310402         14.287183                   14.286476   \n",
       "62       10.927435         12.904216                   12.885618   \n",
       "66       11.060967         13.037748                   13.019149   \n",
       "85       11.116464         14.180899                   14.180193   \n",
       "\n",
       "    Total Bytes Sent By Destination  Total Bytes Received  \\\n",
       "16                         9.455304             14.264658   \n",
       "19                         9.464401             14.287183   \n",
       "62                         9.641769             12.904216   \n",
       "66                         9.775300             13.037748   \n",
       "85                         9.358032             14.180899   \n",
       "\n",
       "    Total Bytes Received By Source  Total Bytes Received By Destination  \\\n",
       "16                        9.455304                            14.263888   \n",
       "19                        9.464401                            14.286476   \n",
       "62                        9.641769                            12.885618   \n",
       "66                        9.775300                            13.019149   \n",
       "85                        9.358032                            14.180193   \n",
       "\n",
       "    ratio_throughput  \n",
       "16          1.241573  \n",
       "19          1.241180  \n",
       "62          1.342871  \n",
       "66         -0.038448  \n",
       "85          1.265091  \n",
       "\n",
       "[5 rows x 30 columns]"
      ]
     },
     "execution_count": 12,
     "metadata": {},
     "output_type": "execute_result"
    }
   ],
   "source": [
    "rf.head()"
   ]
  },
  {
   "cell_type": "code",
   "execution_count": null,
   "metadata": {
    "collapsed": true
   },
   "outputs": [],
   "source": []
  }
 ],
 "metadata": {
  "kernelspec": {
   "display_name": "Python 2",
   "language": "python",
   "name": "python2"
  },
  "language_info": {
   "codemirror_mode": {
    "name": "ipython",
    "version": 2
   },
   "file_extension": ".py",
   "mimetype": "text/x-python",
   "name": "python",
   "nbconvert_exporter": "python",
   "pygments_lexer": "ipython2",
   "version": "2.7.6"
  }
 },
 "nbformat": 4,
 "nbformat_minor": 0
}
